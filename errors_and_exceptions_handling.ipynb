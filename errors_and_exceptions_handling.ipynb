{
 "cells": [
  {
   "cell_type": "code",
   "execution_count": 69,
   "metadata": {},
   "outputs": [
    {
     "name": "stdout",
     "output_type": "stream",
     "text": [
      "5\n",
      "please do not enter 0 \n"
     ]
    }
   ],
   "source": [
    "def division(x,y):\n",
    "    \n",
    "    try:\n",
    "        d = x/y\n",
    "         \n",
    "        return d\n",
    "    except:\n",
    "        print(\"please do not enter 0 \")\n",
    "        \n",
    "x = int(input())\n",
    "\n",
    "division(x,0)"
   ]
  },
  {
   "cell_type": "code",
   "execution_count": 108,
   "metadata": {
    "scrolled": true
   },
   "outputs": [
    {
     "name": "stdout",
     "output_type": "stream",
     "text": [
      "5\n",
      "A\n",
      "Value Error\n"
     ]
    }
   ],
   "source": [
    "def division(x,y):\n",
    "    try:\n",
    "        x = float(input())\n",
    "        y = float(input())\n",
    "        d = x/y\n",
    "        return d\n",
    "    except ValueError as e:\n",
    "        print ('Value Error')\n",
    "division(x,y)"
   ]
  },
  {
   "cell_type": "code",
   "execution_count": 109,
   "metadata": {},
   "outputs": [
    {
     "name": "stdout",
     "output_type": "stream",
     "text": [
      "5\n",
      "a\n",
      "Value Error\n",
      "Name Error\n"
     ]
    }
   ],
   "source": [
    "def division(x,y):\n",
    "    try:\n",
    "        x = float(input())\n",
    "        y = float(input())\n",
    "        d= x/y\n",
    "        return d\n",
    "    except ValueError as e:\n",
    "        print ('Value Error')\n",
    "\n",
    "    try:\n",
    "        print(s)\n",
    "    except NameError:\n",
    "        print(\"Name Error\")\n",
    "division(x,y)"
   ]
  },
  {
   "cell_type": "code",
   "execution_count": null,
   "metadata": {},
   "outputs": [],
   "source": []
  }
 ],
 "metadata": {
  "kernelspec": {
   "display_name": "Python 3",
   "language": "python",
   "name": "python3"
  },
  "language_info": {
   "codemirror_mode": {
    "name": "ipython",
    "version": 3
   },
   "file_extension": ".py",
   "mimetype": "text/x-python",
   "name": "python",
   "nbconvert_exporter": "python",
   "pygments_lexer": "ipython3",
   "version": "3.8.3"
  }
 },
 "nbformat": 4,
 "nbformat_minor": 4
}
