{
 "cells": [
  {
   "cell_type": "code",
   "execution_count": 2,
   "metadata": {},
   "outputs": [
    {
     "name": "stdout",
     "output_type": "stream",
     "text": [
      "Enter a number:5\n",
      "1 x 5 = 5\n",
      "2 x 5 = 10\n",
      "3 x 5 = 15\n",
      "4 x 5 = 20\n",
      "5 x 5 = 25\n",
      "6 x 5 = 30\n",
      "7 x 5 = 35\n",
      "8 x 5 = 40\n",
      "9 x 5 = 45\n",
      "10 x 5 = 50\n"
     ]
    }
   ],
   "source": [
    "value = int(input(\"Enter a number:\"))\n",
    "numbers = [1,2,3,4,5,6,7,8,9,10]\n",
    "for num in numbers:\n",
    "    result=value*num\n",
    "    print(num,'x',value,'=',result)"
   ]
  },
  {
   "cell_type": "code",
   "execution_count": 4,
   "metadata": {},
   "outputs": [
    {
     "name": "stdout",
     "output_type": "stream",
     "text": [
      "0\n",
      "1\n",
      "8\n",
      "9\n",
      "64\n",
      "25\n",
      "216\n",
      "49\n",
      "512\n",
      "81\n",
      "1000\n",
      "121\n",
      "1728\n",
      "169\n",
      "2744\n",
      "225\n",
      "4096\n",
      "289\n",
      "5832\n",
      "361\n",
      "8000\n"
     ]
    }
   ],
   "source": [
    "for num in range(21):\n",
    "    if num % 2 == 0:\n",
    "        print(num**3)\n",
    "    else:\n",
    "        print(num**2)"
   ]
  },
  {
   "cell_type": "code",
   "execution_count": 5,
   "metadata": {},
   "outputs": [
    {
     "name": "stdout",
     "output_type": "stream",
     "text": [
      "Enter a word:semra\n",
      "armes\n"
     ]
    }
   ],
   "source": [
    "word = input(\"Enter a word:\")\n",
    "print(word[::-1])"
   ]
  },
  {
   "cell_type": "code",
   "execution_count": 27,
   "metadata": {},
   "outputs": [
    {
     "name": "stdout",
     "output_type": "stream",
     "text": [
      "Odd numbers: [2, 4, 6, 8, 10, 12, 14, 16, 18, 20, 22, 24, 26, 28, 30, 32, 34, 36, 38, 40, 42, 44, 46, 48, 50, 52, 54, 56, 58, 60, 62, 64, 66, 68, 70, 72, 74, 76, 78, 80, 82, 84, 86, 88, 90, 92, 94, 96, 98, 100, 102, 104, 106, 108, 110, 112, 114, 116, 118, 120, 122, 124, 126, 128, 130, 132, 134, 136, 138, 140, 142, 144, 146, 148, 150, 152, 154, 156, 158, 160, 162, 164, 166, 168, 170, 172, 174, 176, 178, 180, 182, 184, 186, 188, 190, 192, 194, 196, 198, 200] \n",
      "\n",
      "Even Numbers: [1, 3, 5, 7, 9, 11, 13, 15, 17, 19, 21, 23, 25, 27, 29, 31, 33, 35, 37, 39, 41, 43, 45, 47, 49, 51, 53, 55, 57, 59, 61, 63, 65, 67, 69, 71, 73, 75, 77, 79, 81, 83, 85, 87, 89, 91, 93, 95, 97, 99, 101, 103, 105, 107, 109, 111, 113, 115, 117, 119, 121, 123, 125, 127, 129, 131, 133, 135, 137, 139, 141, 143, 145, 147, 149, 151, 153, 155, 157, 159, 161, 163, 165, 167, 169, 171, 173, 175, 177, 179, 181, 183, 185, 187, 189, 191, 193, 195, 197, 199]\n"
     ]
    }
   ],
   "source": [
    "odd_numbers=[]\n",
    "even_numbers=[]\n",
    "for num in range(1,201):\n",
    "    if num%2==0:\n",
    "        odd_numbers.append(num)\n",
    "print(\"Odd numbers:\",odd_numbers,\"\\n\")\n",
    "for num in range(1,201):\n",
    "    if num%2==1:\n",
    "        even_numbers.append(num)\n",
    "print(\"Even Numbers:\", even_numbers)\n"
   ]
  },
  {
   "cell_type": "code",
   "execution_count": 9,
   "metadata": {},
   "outputs": [
    {
     "name": "stdout",
     "output_type": "stream",
     "text": [
      "2\n"
     ]
    }
   ],
   "source": [
    "list = [1,2,3,58,8,8,7,4]\n",
    "i = 8\n",
    "for a in list:\n",
    "    list.count(i)\n",
    "print(list.count(i))"
   ]
  },
  {
   "cell_type": "code",
   "execution_count": 37,
   "metadata": {},
   "outputs": [
    {
     "name": "stdout",
     "output_type": "stream",
     "text": [
      "Enter a number:12\n",
      "3\n"
     ]
    }
   ],
   "source": [
    "total = 0\n",
    "numbers = input(\"Enter a number:\")\n",
    "for num in numbers:\n",
    "    total +=int(num)\n",
    "print(total)"
   ]
  },
  {
   "cell_type": "code",
   "execution_count": 39,
   "metadata": {},
   "outputs": [
    {
     "name": "stdout",
     "output_type": "stream",
     "text": [
      "Enter the first number : 50\n",
      "Enter the second number: 2\n",
      "Gcd =  2\n"
     ]
    }
   ],
   "source": [
    "num1 = int(input(\"Enter the first number : \"))\n",
    "num2 = int(input(\"Enter the second number: \"))\n",
    "if (num1>num2):\n",
    "    lowernum = num2\n",
    "else:\n",
    "    lowernum = num1\n",
    "for i in range(1,lowernum+1):\n",
    "    if (num1 % i==0) and (num2%i ==0):\n",
    "        ebob = i\n",
    "print(\"Gcd = \",ebob)"
   ]
  },
  {
   "cell_type": "code",
   "execution_count": 51,
   "metadata": {},
   "outputs": [
    {
     "name": "stdout",
     "output_type": "stream",
     "text": [
      "fizz\n",
      "buzz\n",
      "fizz\n",
      "fizz\n",
      "buzz\n",
      "fizz\n",
      "fizz\n",
      "buzz\n",
      "fizzbuzz\n",
      "fizz\n",
      "buzz\n",
      "fizz\n",
      "fizz\n",
      "buzz\n",
      "fizz\n",
      "fizz\n",
      "buzz\n",
      "fizzbuzz\n",
      "fizz\n",
      "buzz\n",
      "fizz\n",
      "fizz\n",
      "buzz\n",
      "fizz\n",
      "fizz\n",
      "buzz\n",
      "fizzbuzz\n",
      "fizz\n",
      "buzz\n"
     ]
    }
   ],
   "source": [
    "for i in range(1,51):\n",
    "    if i%3==0:\n",
    "        print(\"fizz\")\n",
    "    if i%5==0:\n",
    "        print(\"buzz\")\n",
    "    if i%5==0 and i%3==0:\n",
    "        print(\"fizzbuzz\")\n",
    "        "
   ]
  },
  {
   "cell_type": "code",
   "execution_count": null,
   "metadata": {},
   "outputs": [],
   "source": [
    "\n"
   ]
  },
  {
   "cell_type": "code",
   "execution_count": 4,
   "metadata": {},
   "outputs": [
    {
     "name": "stdout",
     "output_type": "stream",
     "text": [
      "1\n",
      "1\n",
      "2\n",
      "3\n",
      "5\n",
      "8\n",
      "13\n",
      "21\n",
      "34\n",
      "55\n"
     ]
    }
   ],
   "source": [
    "number=50\n",
    "x=1\n",
    "b=0\n",
    "while b < number:\n",
    "    value= x+b\n",
    "    x = b\n",
    "    b = value\n",
    "    print(b)"
   ]
  },
  {
   "cell_type": "code",
   "execution_count": null,
   "metadata": {},
   "outputs": [],
   "source": [
    "\n"
   ]
  },
  {
   "cell_type": "code",
   "execution_count": null,
   "metadata": {},
   "outputs": [],
   "source": []
  },
  {
   "cell_type": "code",
   "execution_count": null,
   "metadata": {},
   "outputs": [],
   "source": []
  },
  {
   "cell_type": "code",
   "execution_count": null,
   "metadata": {},
   "outputs": [],
   "source": []
  },
  {
   "cell_type": "code",
   "execution_count": null,
   "metadata": {},
   "outputs": [],
   "source": []
  },
  {
   "cell_type": "code",
   "execution_count": null,
   "metadata": {},
   "outputs": [],
   "source": []
  }
 ],
 "metadata": {
  "kernelspec": {
   "display_name": "Python 3",
   "language": "python",
   "name": "python3"
  },
  "language_info": {
   "codemirror_mode": {
    "name": "ipython",
    "version": 3
   },
   "file_extension": ".py",
   "mimetype": "text/x-python",
   "name": "python",
   "nbconvert_exporter": "python",
   "pygments_lexer": "ipython3",
   "version": "3.8.3"
  }
 },
 "nbformat": 4,
 "nbformat_minor": 4
}
