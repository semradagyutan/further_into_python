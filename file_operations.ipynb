{
 "cells": [
  {
   "cell_type": "code",
   "execution_count": 9,
   "metadata": {},
   "outputs": [],
   "source": [
    "with open(\"poem.txt\",\"w\") as poemm:\n",
    "    poemm.write(\"\"\"Öyle bir yağmur ki bu, bilirsin \\n\n",
    "Dam saçak demeyecek, yağacak\\n\n",
    "Yağacak bir hışım gibi canevine kentin\\n\n",
    "Kalplerimiz küle gömülmüş elmalar gibi\\n\n",
    "Patladı patlayacak\\n\n",
    "Alacak sonunda kendi rengini\\n\"\"\")"
   ]
  },
  {
   "cell_type": "code",
   "execution_count": 13,
   "metadata": {},
   "outputs": [],
   "source": [
    "with open(\"poem.txt\",\"a\") as poemm:\n",
    "    poemm.write(\"\\n\")\n",
    "    poemm.write(\"\\n\")\n",
    "    poemm.write(\"\"\"Seni saklayacağım inan\\n\n",
    "Yazdıklarımda, çizdiklerimde,\\n\n",
    "Şarkılarımda, sözlerimde.\\n\n",
    "\n",
    "Sen kalacaksın kimse bilmeyecek\\n\n",
    "Ve kimseler görmiyecek seni,\\n\n",
    "Yaşayacaksın gözlerimde.\"\"\")"
   ]
  },
  {
   "cell_type": "code",
   "execution_count": 14,
   "metadata": {},
   "outputs": [
    {
     "name": "stdout",
     "output_type": "stream",
     "text": [
      "Öyle bir yağmur ki bu, bilirsin \n",
      "\n",
      "Dam saçak demeyecek, yağacak\n",
      "\n",
      "Yağacak bir hışım gibi canevine kentin\n",
      "\n",
      "Kalplerimiz küle gömülmüş elmalar gibi\n",
      "\n",
      "Patladı patlayacak\n",
      "\n",
      "Alacak sonunda kendi rengini\n",
      "\n",
      "Seni saklayacağım inan\n",
      "\n",
      "Yazdıklarımda, çizdiklerimde,\n",
      "\n",
      "Şarkılarımda, sözlerimde.\n",
      "\n",
      "\n",
      "Sen kalacaksın kimse bilmeyecek\n",
      "\n",
      "Ve kimseler görmiyecek seni,\n",
      "\n",
      "Yaşayacaksın gözlerimde.\n",
      "\n",
      "\n",
      "Seni saklayacağım inan\n",
      "\n",
      "Yazdıklarımda, çizdiklerimde,\n",
      "\n",
      "Şarkılarımda, sözlerimde.\n",
      "\n",
      "\n",
      "Sen kalacaksın kimse bilmeyecek\n",
      "\n",
      "Ve kimseler görmiyecek seni,\n",
      "\n",
      "Yaşayacaksın gözlerimde.\n"
     ]
    }
   ],
   "source": [
    "poem = open(\"poem.txt\")\n",
    "print(poem.read())"
   ]
  },
  {
   "cell_type": "code",
   "execution_count": null,
   "metadata": {},
   "outputs": [],
   "source": []
  },
  {
   "cell_type": "code",
   "execution_count": null,
   "metadata": {},
   "outputs": [],
   "source": []
  }
 ],
 "metadata": {
  "kernelspec": {
   "display_name": "Python 3",
   "language": "python",
   "name": "python3"
  },
  "language_info": {
   "codemirror_mode": {
    "name": "ipython",
    "version": 3
   },
   "file_extension": ".py",
   "mimetype": "text/x-python",
   "name": "python",
   "nbconvert_exporter": "python",
   "pygments_lexer": "ipython3",
   "version": "3.8.3"
  }
 },
 "nbformat": 4,
 "nbformat_minor": 4
}
