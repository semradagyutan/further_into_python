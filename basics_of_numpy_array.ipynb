{
 "cells": [
  {
   "cell_type": "code",
   "execution_count": 2,
   "metadata": {},
   "outputs": [
    {
     "name": "stdout",
     "output_type": "stream",
     "text": [
      "[['250' '300' '400' '220' '150' '85' '90' '110' '65' '40']\n",
      " ['childroom' 'bathroom' 'livingroom' 'guestroom' 'gameroom' 'woorkroom'\n",
      "  'kitchen' 'wc' 'dressingroom' 'balcony']\n",
      " ['10000' '50000' '60000' '80000' '40000' '10000' '2500' '1500' '12500'\n",
      "  '16000']]\n"
     ]
    }
   ],
   "source": [
    "import numpy as np\n",
    "house_size = [250,300,400,220,150,85,90,110,65,40]\n",
    "rooms = [\"childroom\",\"bathroom\",\"livingroom\",\"guestroom\",\"gameroom\",\"woorkroom\",\"kitchen\",\"wc\",\"dressingroom\",\"balcony\"]\n",
    "price = [10000,50000,60000,80000,40000,10000,2500,1500,12500,16000]\n",
    "\n",
    "house  = np.array([house_size,rooms, price])\n",
    "print(house)"
   ]
  },
  {
   "cell_type": "code",
   "execution_count": 4,
   "metadata": {},
   "outputs": [
    {
     "name": "stdout",
     "output_type": "stream",
     "text": [
      "[['250' 'childroom' '10000']\n",
      " ['300' 'bathroom' '50000']\n",
      " ['400' 'livingroom' '60000']\n",
      " ['220' 'guestroom' '80000']\n",
      " ['150' 'gameroom' '40000']\n",
      " ['85' 'woorkroom' '10000']\n",
      " ['90' 'kitchen' '2500']\n",
      " ['110' 'wc' '1500']\n",
      " ['65' 'dressingroom' '12500']\n",
      " ['40' 'balcony' '16000']]\n"
     ]
    }
   ],
   "source": [
    "house_size2 = house.T\n",
    "print(house_size2)"
   ]
  },
  {
   "cell_type": "code",
   "execution_count": 16,
   "metadata": {
    "scrolled": true
   },
   "outputs": [
    {
     "data": {
      "text/plain": [
       "(3, 10)"
      ]
     },
     "execution_count": 16,
     "metadata": {},
     "output_type": "execute_result"
    }
   ],
   "source": [
    "import numpy as np\n",
    "house.shape # 3 rows, 10 columns"
   ]
  },
  {
   "cell_type": "code",
   "execution_count": 69,
   "metadata": {},
   "outputs": [
    {
     "name": "stdout",
     "output_type": "stream",
     "text": [
      "rows: 6\n",
      "column: 5\n",
      "[[1. 1. 1. 1. 1.]\n",
      " [1. 0. 1. 0. 1.]\n",
      " [1. 1. 1. 1. 1.]\n",
      " [1. 0. 1. 0. 1.]\n",
      " [1. 1. 1. 1. 1.]\n",
      " [1. 0. 1. 0. 1.]]\n"
     ]
    }
   ],
   "source": [
    "import numpy as np \n",
    "s = int(input(\"rows: \"))\n",
    "t = int(input(\"column: \"))\n",
    "mat = np.ones((s,t))\n",
    "for p in range(0,s):\n",
    "    for r in range(0,t):\n",
    "        if (p%2 == 1 and r%2==1):\n",
    "            mat[p][r]=0\n",
    "print(mat)"
   ]
  }
 ],
 "metadata": {
  "kernelspec": {
   "display_name": "Python 3",
   "language": "python",
   "name": "python3"
  },
  "language_info": {
   "codemirror_mode": {
    "name": "ipython",
    "version": 3
   },
   "file_extension": ".py",
   "mimetype": "text/x-python",
   "name": "python",
   "nbconvert_exporter": "python",
   "pygments_lexer": "ipython3",
   "version": "3.8.3"
  }
 },
 "nbformat": 4,
 "nbformat_minor": 4
}
